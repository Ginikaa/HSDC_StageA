{
 "cells": [
  {
   "cell_type": "code",
   "execution_count": 1,
   "metadata": {
    "_cell_guid": "b1076dfc-b9ad-4769-8c92-a6c4dae69d19",
    "_kg_hide-output": true,
    "_uuid": "8f2839f25d086af736a60e9eeb907d3b93b6e0e5",
    "execution": {
     "iopub.execute_input": "2021-10-22T14:03:58.573547Z",
     "iopub.status.busy": "2021-10-22T14:03:58.573184Z",
     "iopub.status.idle": "2021-10-22T14:04:49.575288Z",
     "shell.execute_reply": "2021-10-22T14:04:49.567970Z",
     "shell.execute_reply.started": "2021-10-22T14:03:58.573458Z"
    }
   },
   "outputs": [],
   "source": [
    "# This Python 3 environment comes with many helpful analytics libraries installed\n",
    "# It is defined by the kaggle/python Docker image: https://github.com/kaggle/docker-python\n",
    "# For example, here's several helpful packages to load\n",
    "\n",
    "import numpy as np # linear algebra\n",
    "import pandas as pd # data processing, CSV file I/O (e.g. pd.read_csv)\n",
    "\n",
    "# Input data files are available in the read-only \"../input/\" directory\n",
    "# For example, running this (by clicking run or pressing Shift+Enter) will list all files under the input directory\n",
    "\n",
    "import os\n",
    "for dirname, _, filenames in os.walk('/kaggle/input'):\n",
    "    for filename in filenames:\n",
    "        print(os.path.join(dirname, filename))\n",
    "\n",
    "# You can write up to 20GB to the current directory (/kaggle/working/) that gets preserved as output when you create a version using \"Save & Run All\" \n",
    "# You can also write temporary files to /kaggle/temp/, but they won't be saved outside of the current session"
   ]
  },
  {
   "cell_type": "code",
   "execution_count": 2,
   "metadata": {
    "execution": {
     "iopub.execute_input": "2021-10-22T14:08:05.002536Z",
     "iopub.status.busy": "2021-10-22T14:08:05.001955Z",
     "iopub.status.idle": "2021-10-22T14:08:06.573051Z",
     "shell.execute_reply": "2021-10-22T14:08:06.572307Z",
     "shell.execute_reply.started": "2021-10-22T14:08:05.002494Z"
    }
   },
   "outputs": [],
   "source": [
    "import sys\n",
    "import os\n",
    "import subprocess\n",
    "\n",
    "from six import string_types\n",
    "\n",
    "# Make sure you have all of these packages installed, e.g. via pip\n",
    "import numpy as np\n",
    "import pandas as pd\n",
    "import seaborn as sns\n",
    "import matplotlib.pyplot as plt\n",
    "import matplotlib.image as mpimg\n",
    "import scipy\n",
    "from skimage import io\n",
    "from scipy import ndimage\n",
    "from IPython.display import display\n",
    "%matplotlib inline"
   ]
  },
  {
   "cell_type": "code",
   "execution_count": 8,
   "metadata": {
    "execution": {
     "iopub.execute_input": "2021-10-22T14:13:40.808952Z",
     "iopub.status.busy": "2021-10-22T14:13:40.808480Z",
     "iopub.status.idle": "2021-10-22T14:13:40.816696Z",
     "shell.execute_reply": "2021-10-22T14:13:40.815787Z",
     "shell.execute_reply.started": "2021-10-22T14:13:40.808912Z"
    }
   },
   "outputs": [],
   "source": [
    "PLANET_KAGGLE_ROOT = os.path.abspath(\"../input/\")\n",
    "TRAIN_JPEG_DIR = os.path.join(PLANET_KAGGLE_ROOT, '../input/planets-dataset/planet/planet/train-jpg')\n",
    "LABEL_CSV = os.path.join(PLANET_KAGGLE_ROOT, '../input/planet-understanding-the-amazon-from-space/train_v2.csv/train_v2.csv')\n",
    "TEST_JPEG_DIR = os.path.join(PLANET_KAGGLE_ROOT, '../input/planets-dataset/planet/planet/test-jpg')\n",
    "TEST_JPEG_DIR_ADD = os.path.join(PLANET_KAGGLE_ROOT, '../input/planets-dataset/test-jpg-additional/test-jpg-additional')\n",
    "assert os.path.exists(PLANET_KAGGLE_ROOT)\n",
    "assert os.path.exists(TRAIN_JPEG_DIR)\n",
    "assert os.path.exists(LABEL_CSV)\n",
    "assert os.path.exists(TEST_JPEG_DIR)\n",
    "assert os.path.exists(TEST_JPEG_DIR_ADD)"
   ]
  },
  {
   "cell_type": "code",
   "execution_count": 9,
   "metadata": {
    "execution": {
     "iopub.execute_input": "2021-10-22T14:14:27.478389Z",
     "iopub.status.busy": "2021-10-22T14:14:27.477521Z",
     "iopub.status.idle": "2021-10-22T14:14:27.569903Z",
     "shell.execute_reply": "2021-10-22T14:14:27.568838Z",
     "shell.execute_reply.started": "2021-10-22T14:14:27.478333Z"
    }
   },
   "outputs": [],
   "source": [
    "labels_df = pd.read_csv(LABEL_CSV)\n",
    "labels_df.head()"
   ]
  },
  {
   "cell_type": "code",
   "execution_count": 14,
   "metadata": {
    "execution": {
     "iopub.execute_input": "2021-10-22T14:18:21.587215Z",
     "iopub.status.busy": "2021-10-22T14:18:21.586301Z",
     "iopub.status.idle": "2021-10-22T14:18:21.626171Z",
     "shell.execute_reply": "2021-10-22T14:18:21.625591Z",
     "shell.execute_reply.started": "2021-10-22T14:18:21.587167Z"
    }
   },
   "outputs": [],
   "source": [
    "from itertools import chain\n",
    "labels_list = list(chain.from_iterable([tags.split(\" \") for tags in labels_df['tags'].values]))\n",
    "labels_set = set(labels_list)\n",
    "print(\"Number of unique labels; {}\".format(len(labels_set)))\n",
    "print(\"Unique labels;{}\".format(labels_set))     "
   ]
  },
  {
   "cell_type": "code",
   "execution_count": 17,
   "metadata": {
    "execution": {
     "iopub.execute_input": "2021-10-22T14:19:00.011859Z",
     "iopub.status.busy": "2021-10-22T14:19:00.011604Z",
     "iopub.status.idle": "2021-10-22T14:19:00.054304Z",
     "shell.execute_reply": "2021-10-22T14:19:00.053533Z",
     "shell.execute_reply.started": "2021-10-22T14:19:00.011832Z"
    }
   },
   "outputs": [],
   "source": [
    "# Build list with unique labels\n",
    "label_list = []\n",
    "for tag_str in labels_df.tags.values:\n",
    "    labels = tag_str.split(' ')\n",
    "    for label in labels:\n",
    "        if label not in label_list:\n",
    "            label_list.append(label)"
   ]
  },
  {
   "cell_type": "code",
   "execution_count": 19,
   "metadata": {
    "execution": {
     "iopub.execute_input": "2021-10-22T14:19:40.492202Z",
     "iopub.status.busy": "2021-10-22T14:19:40.491923Z",
     "iopub.status.idle": "2021-10-22T14:19:41.081640Z",
     "shell.execute_reply": "2021-10-22T14:19:41.080859Z",
     "shell.execute_reply.started": "2021-10-22T14:19:40.492161Z"
    }
   },
   "outputs": [],
   "source": [
    "# Add onehot features for every label\n",
    "for label in label_list:\n",
    "    labels_df[label] = labels_df['tags'].apply(lambda x: 1 if label in x.split(' ') else 0)\n",
    "# Display head\n",
    "labels_df.head()"
   ]
  },
  {
   "cell_type": "code",
   "execution_count": 20,
   "metadata": {
    "execution": {
     "iopub.execute_input": "2021-10-22T14:19:57.701946Z",
     "iopub.status.busy": "2021-10-22T14:19:57.701055Z",
     "iopub.status.idle": "2021-10-22T14:19:58.046369Z",
     "shell.execute_reply": "2021-10-22T14:19:58.045833Z",
     "shell.execute_reply.started": "2021-10-22T14:19:57.701885Z"
    }
   },
   "outputs": [],
   "source": [
    "# Histogram of label instances\n",
    "labels_df[label_list].sum().sort_values().plot.bar()"
   ]
  },
  {
   "cell_type": "code",
   "execution_count": 22,
   "metadata": {
    "execution": {
     "iopub.execute_input": "2021-10-22T14:21:46.230962Z",
     "iopub.status.busy": "2021-10-22T14:21:46.230686Z",
     "iopub.status.idle": "2021-10-22T14:21:49.759208Z",
     "shell.execute_reply": "2021-10-22T14:21:49.757323Z",
     "shell.execute_reply.started": "2021-10-22T14:21:46.230930Z"
    }
   },
   "outputs": [],
   "source": [
    "images_title = [labels_df[labels_df['tags'].str.contains(label)].iloc[i]['image_name'] + '.jpg' \n",
    "                for i, label in enumerate(labels_set)]\n",
    "\n",
    "plt.rc('axes', grid=False)\n",
    "_, axs = plt.subplots(5, 4, sharex='col', sharey='row', figsize=(15, 20))\n",
    "axs = axs.ravel()\n",
    "\n",
    "for i, (image_name, label) in enumerate(zip(images_title, labels_set)):\n",
    "    img = mpimg.imread(TRAIN_JPEG_DIR + '/' + image_name)\n",
    "    axs[i].imshow(img)\n",
    "    axs[i].set_title('{} - {}'.format(image_name, label))"
   ]
  },
  {
   "cell_type": "code",
   "execution_count": 35,
   "metadata": {
    "execution": {
     "iopub.execute_input": "2021-10-22T14:37:55.760662Z",
     "iopub.status.busy": "2021-10-22T14:37:55.759880Z",
     "iopub.status.idle": "2021-10-22T14:37:55.777454Z",
     "shell.execute_reply": "2021-10-22T14:37:55.776592Z",
     "shell.execute_reply.started": "2021-10-22T14:37:55.760622Z"
    }
   },
   "outputs": [],
   "source": [
    "# Detect TPU, return appropriate distribution strategy\n",
    "try:\n",
    "    tpu = tf.distribute.cluster_resolver.TPUClusterResolver() \n",
    "    print('Running on TPU ', tpu.master())\n",
    "except ValueError:\n",
    "    tpu = None\n",
    "\n",
    "if tpu:\n",
    "    tf.config.experimental_connect_to_cluster(tpu)\n",
    "    tf.tpu.experimental.initialize_tpu_system(tpu)\n",
    "    strategy = tf.distribute.experimental.TPUStrategy(tpu)\n",
    "else:\n",
    "    strategy = tf.distribute.get_strategy() \n",
    "\n",
    "print(\"REPLICAS: \", strategy.num_replicas_in_sync)"
   ]
  },
  {
   "cell_type": "code",
   "execution_count": 65,
   "metadata": {
    "execution": {
     "iopub.execute_input": "2021-10-22T15:04:02.884556Z",
     "iopub.status.busy": "2021-10-22T15:04:02.884231Z",
     "iopub.status.idle": "2021-10-22T15:04:02.890959Z",
     "shell.execute_reply": "2021-10-22T15:04:02.890224Z",
     "shell.execute_reply.started": "2021-10-22T15:04:02.884519Z"
    }
   },
   "outputs": [],
   "source": [
    "BATCH_SIZE = 16 * strategy.num_replicas_in_sync\n",
    "BATCH_SIZE"
   ]
  },
  {
   "cell_type": "code",
   "execution_count": 48,
   "metadata": {
    "execution": {
     "iopub.execute_input": "2021-10-22T14:46:46.725092Z",
     "iopub.status.busy": "2021-10-22T14:46:46.724450Z",
     "iopub.status.idle": "2021-10-22T14:46:47.112009Z",
     "shell.execute_reply": "2021-10-22T14:46:47.111458Z",
     "shell.execute_reply.started": "2021-10-22T14:46:46.725058Z"
    }
   },
   "outputs": [],
   "source": [
    "IMAGE_SIZE = (128,128)\n",
    "EPOCHS = 12\n",
    "\n",
    "with strategy.scope():\n",
    "    pretrained_model = tf.keras.applications.VGG16(\n",
    "        weights='imagenet',\n",
    "        include_top=False ,\n",
    "        input_shape=[*IMAGE_SIZE, 3]\n",
    "    )\n",
    "    pretrained_model.trainable = False\n",
    "    \n",
    "    model = tf.keras.Sequential([\n",
    "        # To a base pretrained on ImageNet to extract features from images...\n",
    "        pretrained_model,\n",
    "        # ... attach a new head to act as a classifier.\n",
    "        tf.keras.layers.GlobalAveragePooling2D(),\n",
    "        tf.keras.layers.Dense(17, activation='softmax')\n",
    "    ])"
   ]
  },
  {
   "cell_type": "code",
   "execution_count": 50,
   "metadata": {
    "execution": {
     "iopub.execute_input": "2021-10-22T14:48:11.450290Z",
     "iopub.status.busy": "2021-10-22T14:48:11.449408Z",
     "iopub.status.idle": "2021-10-22T14:48:11.463079Z",
     "shell.execute_reply": "2021-10-22T14:48:11.462097Z",
     "shell.execute_reply.started": "2021-10-22T14:48:11.450243Z"
    }
   },
   "outputs": [],
   "source": [
    "model.compile(\n",
    "    optimizer='adam',\n",
    "    loss = 'sparse_categorical_crossentropy',\n",
    "    metrics=['sparse_categorical_accuracy'],\n",
    ")\n",
    "\n",
    "model.summary()"
   ]
  },
  {
   "cell_type": "code",
   "execution_count": 58,
   "metadata": {
    "execution": {
     "iopub.execute_input": "2021-10-22T14:58:22.568708Z",
     "iopub.status.busy": "2021-10-22T14:58:22.568328Z",
     "iopub.status.idle": "2021-10-22T14:58:29.219609Z",
     "shell.execute_reply": "2021-10-22T14:58:29.218845Z",
     "shell.execute_reply.started": "2021-10-22T14:58:22.568670Z"
    }
   },
   "outputs": [],
   "source": [
    "!ls -lha ../input/planets-dataset/planet/planet/train-jpg | wc -l"
   ]
  },
  {
   "cell_type": "code",
   "execution_count": 59,
   "metadata": {
    "execution": {
     "iopub.execute_input": "2021-10-22T14:59:02.356414Z",
     "iopub.status.busy": "2021-10-22T14:59:02.356075Z",
     "iopub.status.idle": "2021-10-22T14:59:02.363244Z",
     "shell.execute_reply": "2021-10-22T14:59:02.362629Z",
     "shell.execute_reply.started": "2021-10-22T14:59:02.356380Z"
    }
   },
   "outputs": [],
   "source": [
    "len(TRAIN_JPEG_DIR)"
   ]
  },
  {
   "cell_type": "code",
   "execution_count": 68,
   "metadata": {
    "execution": {
     "iopub.execute_input": "2021-10-22T15:05:28.660050Z",
     "iopub.status.busy": "2021-10-22T15:05:28.659742Z",
     "iopub.status.idle": "2021-10-22T15:05:28.921680Z",
     "shell.execute_reply": "2021-10-22T15:05:28.920807Z",
     "shell.execute_reply.started": "2021-10-22T15:05:28.660015Z"
    }
   },
   "outputs": [],
   "source": [
    "# Learning Rate Schedule for Fine Tuning #\n",
    "def exponential_lr(epoch,\n",
    "                   start_lr = 0.00001, min_lr = 0.00001, max_lr = 0.00005,\n",
    "                   rampup_epochs = 5, sustain_epochs = 0,\n",
    "                   exp_decay = 0.8):\n",
    "\n",
    "    def lr(epoch, start_lr, min_lr, max_lr, rampup_epochs, sustain_epochs, exp_decay):\n",
    "        # linear increase from start to rampup_epochs\n",
    "        if epoch < rampup_epochs:\n",
    "            lr = ((max_lr - start_lr) /\n",
    "                  rampup_epochs * epoch + start_lr)\n",
    "        # constant max_lr during sustain_epochs\n",
    "        elif epoch < rampup_epochs + sustain_epochs:\n",
    "            lr = max_lr\n",
    "        # exponential decay towards min_lr\n",
    "        else:\n",
    "            lr = ((max_lr - min_lr) *\n",
    "                  exp_decay**(epoch - rampup_epochs - sustain_epochs) +\n",
    "                  min_lr)\n",
    "        return lr\n",
    "    return lr(epoch,\n",
    "              start_lr,\n",
    "              min_lr,\n",
    "              max_lr,\n",
    "              rampup_epochs,\n",
    "              sustain_epochs,\n",
    "              exp_decay)\n",
    "\n",
    "lr_callback = tf.keras.callbacks.LearningRateScheduler(exponential_lr, verbose=True)\n",
    "\n",
    "\n",
    "rng = [i for i in range(EPOCHS)]\n",
    "y = [exponential_lr(x) for x in rng]\n",
    "plt.plot(rng, y)\n",
    "print(\"Learning rate schedule: {:.3g} to {:.3g} to {:.3g}\".format(y[0], max(y), y[-1]))"
   ]
  },
  {
   "cell_type": "code",
   "execution_count": 74,
   "metadata": {
    "execution": {
     "iopub.execute_input": "2021-10-22T15:22:13.905591Z",
     "iopub.status.busy": "2021-10-22T15:22:13.904733Z",
     "iopub.status.idle": "2021-10-22T15:22:13.909899Z",
     "shell.execute_reply": "2021-10-22T15:22:13.909229Z",
     "shell.execute_reply.started": "2021-10-22T15:22:13.905539Z"
    }
   },
   "outputs": [],
   "source": [
    "img_resize = (128, 128) \n",
    "validation_split_size = 0.2"
   ]
  },
  {
   "cell_type": "code",
   "execution_count": 149,
   "metadata": {
    "execution": {
     "iopub.execute_input": "2021-10-22T17:34:34.844197Z",
     "iopub.status.busy": "2021-10-22T17:34:34.843885Z",
     "iopub.status.idle": "2021-10-22T17:36:49.326481Z",
     "shell.execute_reply": "2021-10-22T17:36:49.325313Z",
     "shell.execute_reply.started": "2021-10-22T17:34:34.844165Z"
    }
   },
   "outputs": [],
   "source": [
    "import keras as k\n",
    "from keras.models import Sequential\n",
    "from keras.layers import Dense, Dropout, Flatten\n",
    "from keras.layers import Conv2D, MaxPooling2D\n",
    "\n",
    "import cv2\n",
    "from tqdm import tqdm\n",
    "\n",
    "x_train = []\n",
    "x_test = []\n",
    "y_train = []\n",
    "\n",
    "df_train = pd.read_csv('../input/planet-understanding-the-amazon-from-space/train_v2.csv/train_v2.csv')\n",
    "\n",
    "flatten = lambda l: [item for sublist in l for item in sublist]\n",
    "labels = list(set(flatten([l.split(' ') for l in df_train['tags'].values])))\n",
    "\n",
    "label_map = {l: i for i, l in enumerate(labels)}\n",
    "inv_label_map = {i: l for l, i in label_map.items()}\n",
    "\n",
    "for f, tags in tqdm(df_train.values, miniters=1000):\n",
    "    img = cv2.imread('../input/planets-dataset/planet/planet/train-jpg/{}.jpg'.format(f))\n",
    "    targets = np.zeros(17)\n",
    "    for t in tags.split(' '):\n",
    "        targets[label_map[t]] = 1 \n",
    "    x_train.append(cv2.resize(img, (32, 32)))\n",
    "    y_train.append(targets)\n",
    "    \n",
    "y_train = np.array(y_train, np.uint8)\n",
    "x_train = np.array(x_train, np.float16) / 255.\n",
    "\n",
    "print(x_train.shape)\n",
    "print(y_train.shape)\n",
    "\n",
    "split = 35000\n",
    "x_train, x_valid, y_train, y_valid = x_train[:split], x_train[split:], y_train[:split], y_train[split:]\n",
    "\n",
    "model = Sequential()\n",
    "model.add(Conv2D(32, kernel_size=(3, 3),\n",
    "                 activation='relu',\n",
    "                 input_shape=(32, 32, 3)))\n",
    "\n",
    "model.add(Conv2D(64, (3, 3), activation='relu'))\n",
    "model.add(MaxPooling2D(pool_size=(2, 2)))\n",
    "model.add(Dropout(0.25))\n",
    "model.add(Flatten())\n",
    "model.add(Dense(128, activation='relu'))\n",
    "model.add(Dropout(0.5))\n",
    "model.add(Dense(17, activation='sigmoid'))"
   ]
  },
  {
   "cell_type": "code",
   "execution_count": 111,
   "metadata": {
    "execution": {
     "iopub.execute_input": "2021-10-22T16:19:25.464900Z",
     "iopub.status.busy": "2021-10-22T16:19:25.464574Z",
     "iopub.status.idle": "2021-10-22T16:19:25.485699Z",
     "shell.execute_reply": "2021-10-22T16:19:25.484845Z",
     "shell.execute_reply.started": "2021-10-22T16:19:25.464865Z"
    }
   },
   "outputs": [],
   "source": [
    "model.compile(\n",
    "    optimizer='adam',\n",
    "    loss = 'binary_crossentropy',\n",
    "    metrics=['accuracy'],\n",
    ")\n",
    "\n",
    "model.summary()"
   ]
  },
  {
   "cell_type": "code",
   "execution_count": 114,
   "metadata": {
    "execution": {
     "iopub.execute_input": "2021-10-22T16:24:58.301430Z",
     "iopub.status.busy": "2021-10-22T16:24:58.301094Z",
     "iopub.status.idle": "2021-10-22T16:27:50.127134Z",
     "shell.execute_reply": "2021-10-22T16:27:50.126232Z",
     "shell.execute_reply.started": "2021-10-22T16:24:58.301393Z"
    }
   },
   "outputs": [],
   "source": [
    "# Define training epochs\n",
    "EPOCHS = 4\n",
    "\n",
    "\n",
    "model.fit(x_train, y_train,\n",
    "          validation_data=(x_valid, y_valid),\n",
    "          batch_size = 128,\n",
    "          epochs=EPOCHS,\n",
    "          verbose = 1,\n",
    "          callbacks=[lr_callback],\n",
    ")"
   ]
  },
  {
   "cell_type": "code",
   "execution_count": 115,
   "metadata": {
    "execution": {
     "iopub.execute_input": "2021-10-22T16:27:55.269394Z",
     "iopub.status.busy": "2021-10-22T16:27:55.269076Z",
     "iopub.status.idle": "2021-10-22T16:27:57.040381Z",
     "shell.execute_reply": "2021-10-22T16:27:57.039394Z",
     "shell.execute_reply.started": "2021-10-22T16:27:55.269358Z"
    }
   },
   "outputs": [],
   "source": [
    "from sklearn.metrics import fbeta_score\n",
    "\n",
    "p_valid = model.predict(x_valid, batch_size=128)\n",
    "print(y_valid)\n",
    "print(p_valid)\n",
    "print(fbeta_score(y_valid, np.array(p_valid) > 0.2, beta=2, average='samples'))"
   ]
  },
  {
   "cell_type": "code",
   "execution_count": 150,
   "metadata": {
    "execution": {
     "iopub.execute_input": "2021-10-22T17:39:22.201613Z",
     "iopub.status.busy": "2021-10-22T17:39:22.201291Z",
     "iopub.status.idle": "2021-10-22T17:44:28.470131Z",
     "shell.execute_reply": "2021-10-22T17:44:28.468896Z",
     "shell.execute_reply.started": "2021-10-22T17:39:22.201581Z"
    }
   },
   "outputs": [],
   "source": [
    "df_test = pd.read_csv('../input/planet-understanding-the-amazon-from-space/sample_submission_v2.csv/sample_submission_v2.csv')\n",
    "for f, tags in tqdm(df_test.values, miniters=1000): \n",
    "    img = cv2.imread('../input/planets-dataset/planet/planet/test-jpg/{}.jpg'.format(f))\n",
    "    x_test.append(cv2.resize(img, (32, 32)))"
   ]
  },
  {
   "cell_type": "code",
   "execution_count": null,
   "metadata": {
    "execution": {
     "iopub.execute_input": "2021-10-22T17:48:39.484178Z",
     "iopub.status.busy": "2021-10-22T17:48:39.483487Z"
    }
   },
   "outputs": [],
   "source": [
    "y_test = model.predict(x_test, batch_size=128)"
   ]
  }
 ],
 "metadata": {
  "kernelspec": {
   "display_name": "Python 3",
   "language": "python",
   "name": "python3"
  },
  "language_info": {
   "codemirror_mode": {
    "name": "ipython",
    "version": 3
   },
   "file_extension": ".py",
   "mimetype": "text/x-python",
   "name": "python",
   "nbconvert_exporter": "python",
   "pygments_lexer": "ipython3",
   "version": "3.8.5"
  }
 },
 "nbformat": 4,
 "nbformat_minor": 4
}
